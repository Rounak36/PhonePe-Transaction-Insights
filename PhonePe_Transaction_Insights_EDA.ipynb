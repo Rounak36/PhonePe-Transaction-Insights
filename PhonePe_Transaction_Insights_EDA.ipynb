{
  "nbformat": 4,
  "nbformat_minor": 0,
  "metadata": {
    "colab": {
      "private_outputs": true,
      "provenance": [],
      "collapsed_sections": [
        "vncDsAP0Gaoa",
        "FJNUwmbgGyua",
        "w6K7xa23Elo4",
        "yQaldy8SH6Dl",
        "PH-0ReGfmX4f",
        "mDgbUHAGgjLW",
        "O_i_v8NEhb9l",
        "HhfV-JJviCcP",
        "Y3lxredqlCYt",
        "3RnN4peoiCZX",
        "x71ZqKXriCWQ",
        "7hBIi_osiCS2",
        "JlHwYmJAmNHm",
        "35m5QtbWiB9F",
        "PoPl-ycgm1ru",
        "H0kj-8xxnORC",
        "nA9Y7ga8ng1Z",
        "PBTbrJXOngz2",
        "u3PMJOP6ngxN",
        "dauF4eBmngu3",
        "bKJF3rekwFvQ",
        "MSa1f5Uengrz",
        "GF8Ens_Soomf",
        "0wOQAZs5pc--",
        "K5QZ13OEpz2H",
        "lQ7QKXXCp7Bj",
        "448CDAPjqfQr",
        "KSlN3yHqYklG",
        "t6dVpIINYklI",
        "ijmpgYnKYklI",
        "-JiQyfWJYklI",
        "EM7whBJCYoAo",
        "fge-S5ZAYoAp",
        "85gYPyotYoAp",
        "RoGjAbkUYoAp",
        "4Of9eVA-YrdM",
        "iky9q4vBYrdO",
        "F6T5p64dYrdO",
        "y-Ehk30pYrdP",
        "bamQiAODYuh1",
        "QHF8YVU7Yuh3",
        "GwzvFGzlYuh3",
        "qYpmQ266Yuh3",
        "OH-pJp9IphqM",
        "bbFf2-_FphqN",
        "_ouA3fa0phqN",
        "Seke61FWphqN",
        "PIIx-8_IphqN",
        "t27r6nlMphqO",
        "r2jJGEOYphqO",
        "b0JNsNcRphqO",
        "BZR9WyysphqO",
        "jj7wYXLtphqO",
        "eZrbJ2SmphqO",
        "rFu4xreNphqO",
        "YJ55k-q6phqO",
        "gCFgpxoyphqP",
        "OVtJsKN_phqQ",
        "lssrdh5qphqQ",
        "U2RJ9gkRphqQ",
        "1M8mcRywphqQ",
        "tgIPom80phqQ",
        "JMzcOPDDphqR",
        "x-EpHcCOp1ci",
        "X_VqEhTip1ck",
        "8zGJKyg5p1ck",
        "PVzmfK_Ep1ck",
        "n3dbpmDWp1ck",
        "ylSl6qgtp1ck",
        "ZWILFDl5p1ck",
        "M7G43BXep1ck",
        "Ag9LCva-p1cl",
        "E6MkPsBcp1cl",
        "2cELzS2fp1cl",
        "3MPXvC8up1cl",
        "NC_X3p0fY2L0",
        "UV0SzAkaZNRQ",
        "YPEH6qLeZNRQ",
        "q29F0dvdveiT",
        "EXh0U9oCveiU",
        "22aHeOlLveiV",
        "JcMwzZxoAimU",
        "8G2x9gOozGDZ",
        "gCX9965dhzqZ",
        "gIfDvo9L0UH2"
      ]
    },
    "kernelspec": {
      "name": "python3",
      "display_name": "Python 3"
    },
    "language_info": {
      "name": "python"
    }
  },
  "cells": [
    {
      "cell_type": "markdown",
      "source": [
        "# **Project Name**    - **PhonePe Transaction Insights**\n",
        "\n"
      ],
      "metadata": {
        "id": "vncDsAP0Gaoa"
      }
    },
    {
      "cell_type": "markdown",
      "source": [
        "##### **Project Type**    - EDA\n",
        "##### **Contribution**    - Individual\n"
      ],
      "metadata": {
        "id": "beRrZCGUAJYm"
      }
    },
    {
      "cell_type": "markdown",
      "source": [
        "# **Project Summary -**"
      ],
      "metadata": {
        "id": "FJNUwmbgGyua"
      }
    },
    {
      "cell_type": "markdown",
      "source": [
        "The PhonePe Transaction Insights project focuses on understanding how digital payment behavior varies across India using real transaction and user data. As one of the leading platforms in the country’s digital finance ecosystem, PhonePe handles millions of transactions and user interactions daily. This project aimed to extract insights from that data to support better business decisions, track performance, and identify untapped opportunities in the market.\n",
        "\n",
        "To begin, data was extracted from the official PhonePe Pulse GitHub repository. The raw data, provided in nested JSON format, was parsed and structured using Python, then loaded into a SQLite database. Three key datasets were used throughout the project: aggregated transactions, aggregated user data, and top district users. The data was cleaned, formatted, and transformed to enable both SQL-based business analysis and Python-driven visualizations. A new column named year_quarter was added to assist with time-based evaluations and trend analysis.\n",
        "\n",
        "After preparing the data, the project focused on solving real-world business case studies using SQL. Each case reflected a practical scenario that PhonePe might encounter, such as identifying top-performing states by transaction volume, tracking app opens over time to measure engagement, or comparing user registration and transaction behavior across regions. SQL queries were written to group, filter, and summarize the data in meaningful ways. The results provided key insights into where PhonePe is growing, where user engagement is lacking, and which regions might need targeted marketing or service improvements.\n",
        "\n",
        "To bring these insights to life, the project included a wide variety of visualizations using Matplotlib and Seaborn. These included bar charts showing the top 10 states by transaction amount, line graphs depicting quarterly growth in app opens, pie charts for payment type distribution, and heatmaps visualizing how transaction values changed across quarters and states. Each chart served a specific purpose, chosen not just for aesthetics but to clearly communicate patterns in the data. For example, a scatter plot comparing app opens and total transaction amount revealed a positive correlation, indicating that more active app usage is likely to result in higher transaction volumes.\n",
        "\n",
        "An interactive dashboard was created using Streamlit to present the findings in a structured and user-friendly format. The dashboard included sections for state-wise transaction performance, quarterly user engagement, and top-performing districts by registered users. It also provided a summary of the technologies used, business use cases explored, and skills demonstrated. By interacting with dropdowns and charts, users could explore the data dynamically and make their own observations.\n",
        "\n",
        "The key takeaways from the analysis were that states like Maharashtra, Karnataka, and Telangana consistently lead in both user activity and transaction volume. However, certain districts with high user registration showed relatively lower app engagement, highlighting the need for targeted re-engagement strategies. The payment type breakdown showed a dominance of peer-to-peer transfers and merchant payments, guiding potential focus areas for product development or marketing.\n",
        "\n",
        "In conclusion, this project showcases how raw transactional data can be transformed into a powerful decision-making tool. By combining data extraction, SQL querying, Python visualization, and dashboard deployment, the PhonePe Transaction Insights project demonstrates the complete journey from data to actionable business recommendations. It reflects the value of structured analysis and highlights the importance of understanding regional and behavioral trends in India’s growing digital payment landscape."
      ],
      "metadata": {
        "id": "F6v_1wHtG2nS"
      }
    },
    {
      "cell_type": "markdown",
      "source": [
        "# **GitHub Link -**"
      ],
      "metadata": {
        "id": "w6K7xa23Elo4"
      }
    },
    {
      "cell_type": "markdown",
      "source": [
        "Provide your GitHub Link here."
      ],
      "metadata": {
        "id": "h1o69JH3Eqqn"
      }
    },
    {
      "cell_type": "markdown",
      "source": [
        "# **Problem Statement**\n"
      ],
      "metadata": {
        "id": "yQaldy8SH6Dl"
      }
    },
    {
      "cell_type": "markdown",
      "source": [
        "In recent years, the rapid growth of digital payment systems has transformed the financial landscape in India. Among the leading platforms, PhonePe has witnessed massive adoption across states and districts. However, this expansion comes with the challenge of understanding how transaction behavior, user engagement, and payment preferences vary across regions and over time. The data reveals inconsistencies in performance, fluctuating user activity, and uneven insurance adoption. To ensure continued growth and strategic market expansion, there is a need for in-depth analysis of this data to uncover trends, optimize marketing efforts, and guide product development.\n",
        "\n"
      ],
      "metadata": {
        "id": "DpeJGUA3kjGy"
      }
    },
    {
      "cell_type": "markdown",
      "source": [
        "#### **Define Your Business Objective?**"
      ],
      "metadata": {
        "id": "PH-0ReGfmX4f"
      }
    },
    {
      "cell_type": "markdown",
      "source": [
        "The primary business objective is to analyze PhonePe’s transaction and user data to gain actionable insights into user behavior, engagement trends, and regional performance. This includes identifying top-performing states and districts, understanding the effectiveness of different payment categories, monitoring quarterly growth, and discovering areas where user engagement or insurance penetration is low. These insights will support informed decision-making in areas such as marketing strategy, customer targeting, product enhancement, and business expansion."
      ],
      "metadata": {
        "id": "PhDvGCAqmjP1"
      }
    },
    {
      "cell_type": "markdown",
      "source": [
        "# **General Guidelines** : -  "
      ],
      "metadata": {
        "id": "mDgbUHAGgjLW"
      }
    },
    {
      "cell_type": "markdown",
      "source": [
        "1.   Well-structured, formatted, and commented code is required.\n",
        "2.   Exception Handling, Production Grade Code & Deployment Ready Code will be a plus. Those students will be awarded some additional credits.\n",
        "     \n",
        "     The additional credits will have advantages over other students during Star Student selection.\n",
        "       \n",
        "             [ Note: - Deployment Ready Code is defined as, the whole .ipynb notebook should be executable in one go\n",
        "                       without a single error logged. ]\n",
        "\n",
        "3.   Each and every logic should have proper comments.\n",
        "4. You may add as many number of charts you want. Make Sure for each and every chart the following format should be answered.\n",
        "        \n",
        "\n",
        "```\n",
        "# Chart visualization code\n",
        "```\n",
        "            \n",
        "\n",
        "*   Why did you pick the specific chart?\n",
        "*   What is/are the insight(s) found from the chart?\n",
        "* Will the gained insights help creating a positive business impact?\n",
        "Are there any insights that lead to negative growth? Justify with specific reason.\n",
        "\n",
        "5. You have to create at least 20 logical & meaningful charts having important insights.\n",
        "\n",
        "\n",
        "[ Hints : - Do the Vizualization in  a structured way while following \"UBM\" Rule.\n",
        "\n",
        "U - Univariate Analysis,\n",
        "\n",
        "B - Bivariate Analysis (Numerical - Categorical, Numerical - Numerical, Categorical - Categorical)\n",
        "\n",
        "M - Multivariate Analysis\n",
        " ]\n",
        "\n",
        "\n",
        "\n"
      ],
      "metadata": {
        "id": "ZrxVaUj-hHfC"
      }
    },
    {
      "cell_type": "markdown",
      "source": [
        "# ***Let's Begin !***"
      ],
      "metadata": {
        "id": "O_i_v8NEhb9l"
      }
    },
    {
      "cell_type": "markdown",
      "source": [
        "## ***1. Know Your Data***"
      ],
      "metadata": {
        "id": "HhfV-JJviCcP"
      }
    },
    {
      "cell_type": "markdown",
      "source": [
        "### Import Libraries"
      ],
      "metadata": {
        "id": "Y3lxredqlCYt"
      }
    },
    {
      "cell_type": "code",
      "source": [
        "# Import Libraries\n",
        "import pandas as pd\n",
        "import numpy as np\n",
        "import matplotlib.pyplot as plt\n",
        "import seaborn as sns\n",
        "import streamlit as st\n",
        "import sqlite3\n",
        "from sqlite3 import connect\n"
      ],
      "metadata": {
        "id": "M8Vqi-pPk-HR"
      },
      "execution_count": null,
      "outputs": []
    },
    {
      "cell_type": "markdown",
      "source": [
        "###Extract top/user Data"
      ],
      "metadata": {
        "id": "01CoQwUrb8eF"
      }
    },
    {
      "cell_type": "code",
      "source": [
        "!git clone https://github.com/PhonePe/pulse.git\n",
        "\n"
      ],
      "metadata": {
        "id": "YjAuL90BKjzs"
      },
      "execution_count": null,
      "outputs": []
    },
    {
      "cell_type": "code",
      "source": [
        "import os\n",
        "\n",
        "path = '/content/pulse/data/top/user/country/india/state/'\n",
        "print(os.listdir(path))  # Lists all state folders\n"
      ],
      "metadata": {
        "id": "Lv4QEzT9LAar"
      },
      "execution_count": null,
      "outputs": []
    },
    {
      "cell_type": "markdown",
      "source": [
        "#### Print all valid JSON file paths"
      ],
      "metadata": {
        "id": "IXFl-EnnYybx"
      }
    },
    {
      "cell_type": "markdown",
      "source": [
        "####extract top districts and pincodes"
      ],
      "metadata": {
        "id": "DOZp8BrDZhN-"
      }
    },
    {
      "cell_type": "code",
      "source": [
        "#extract top districts and pincodes\n",
        "import os\n",
        "import json\n",
        "import pandas as pd\n",
        "\n",
        "base_path = \"/content/pulse/data/top/user/country/india/state/\"\n",
        "\n",
        "district_data = []\n",
        "pincode_data = []\n",
        "\n",
        "for state in os.listdir(base_path):\n",
        "    state_path = os.path.join(base_path, state)\n",
        "    if not os.path.isdir(state_path):\n",
        "        continue\n",
        "\n",
        "    for year in os.listdir(state_path):\n",
        "        year_path = os.path.join(state_path, year)\n",
        "        for file in os.listdir(year_path):\n",
        "            if file.endswith(\".json\"):\n",
        "                quarter = int(file.replace(\".json\", \"\"))\n",
        "                file_path = os.path.join(year_path, file)\n",
        "\n",
        "                with open(file_path, \"r\") as f:\n",
        "                    try:\n",
        "                        data = json.load(f)\n",
        "                        districts = data.get(\"data\", {}).get(\"districts\", [])\n",
        "                        pincodes = data.get(\"data\", {}).get(\"pincodes\", [])\n",
        "\n",
        "                        # DISTRICTS\n",
        "                        for dist in districts:\n",
        "                            district_data.append({\n",
        "                                \"state\": state,\n",
        "                                \"year\": int(year),\n",
        "                                \"quarter\": quarter,\n",
        "                                \"district\": dist.get(\"name\"),\n",
        "                                \"registered_users\": dist.get(\"registeredUsers\", 0)\n",
        "                            })\n",
        "\n",
        "                        # PINCODES\n",
        "                        for pin in pincodes:\n",
        "                            pincode_data.append({\n",
        "                                \"state\": state,\n",
        "                                \"year\": int(year),\n",
        "                                \"quarter\": quarter,\n",
        "                                \"pincode\": pin.get(\"name\"),\n",
        "                                \"registered_users\": pin.get(\"registeredUsers\", 0)\n",
        "                            })\n",
        "\n",
        "                    except Exception as e:\n",
        "                        print(f\"Error in {file_path}: {e}\")\n",
        "\n",
        "# Convert to DataFrames\n",
        "df_district_users = pd.DataFrame(district_data)\n",
        "df_pincode_users = pd.DataFrame(pincode_data)\n",
        "\n",
        "# Show samples\n",
        "print(\" District Sample:\")\n",
        "print(df_district_users.head())\n",
        "print(\"\\n Pincode Sample:\")\n",
        "print(df_pincode_users.head())\n"
      ],
      "metadata": {
        "id": "bhqw8bNvNZsy"
      },
      "execution_count": null,
      "outputs": []
    },
    {
      "cell_type": "markdown",
      "source": [
        "#### Print all valid JSON file paths"
      ],
      "metadata": {
        "id": "yd4VLQxLbrsz"
      }
    },
    {
      "cell_type": "code",
      "source": [
        "import os\n",
        "\n",
        "base_path = \"/content/pulse/data/top/user/country/india/state/\"\n",
        "\n",
        "# Print all valid JSON file paths\n",
        "for state in os.listdir(base_path):\n",
        "    state_path = os.path.join(base_path, state)\n",
        "    if not os.path.isdir(state_path): continue\n",
        "\n",
        "    for year in os.listdir(state_path):\n",
        "        year_path = os.path.join(state_path, year)\n",
        "        if not os.path.isdir(year_path): continue\n",
        "\n",
        "        for file in os.listdir(year_path):\n",
        "            if file.endswith(\".json\"):\n",
        "                print(\"FOUND FILE:\", os.path.join(year_path, file))\n"
      ],
      "metadata": {
        "id": "XNebi6RsMlfK"
      },
      "execution_count": null,
      "outputs": []
    },
    {
      "cell_type": "markdown",
      "source": [
        "####Pick one sample file from what was printed earlier"
      ],
      "metadata": {
        "id": "S-hniH9AZCIw"
      }
    },
    {
      "cell_type": "markdown",
      "source": [
        "#### Create a SQLite DB"
      ],
      "metadata": {
        "id": "16SU9rj8Zzxr"
      }
    },
    {
      "cell_type": "code",
      "source": [
        "import sqlite3\n",
        "\n",
        "# Create a SQLite DB (or connect if exists)\n",
        "conn = sqlite3.connect(\"phonepe_data.db\")\n",
        "cursor = conn.cursor()\n"
      ],
      "metadata": {
        "id": "c2ANs47sORR1"
      },
      "execution_count": null,
      "outputs": []
    },
    {
      "cell_type": "markdown",
      "source": [
        "#### Create table for district users & pincode users"
      ],
      "metadata": {
        "id": "qtiKHlw1aKBi"
      }
    },
    {
      "cell_type": "code",
      "source": [
        "# Create table for district users\n",
        "cursor.execute('''\n",
        "CREATE TABLE IF NOT EXISTS top_district_users (\n",
        "    state TEXT,\n",
        "    year INTEGER,\n",
        "    quarter INTEGER,\n",
        "    district TEXT,\n",
        "    registered_users INTEGER\n",
        ")\n",
        "''')\n",
        "\n",
        "# Create table for pincode users\n",
        "cursor.execute('''\n",
        "CREATE TABLE IF NOT EXISTS top_pincode_users (\n",
        "    state TEXT,\n",
        "    year INTEGER,\n",
        "    quarter INTEGER,\n",
        "    pincode TEXT,\n",
        "    registered_users INTEGER\n",
        ")\n",
        "''')\n",
        "\n",
        "conn.commit()\n"
      ],
      "metadata": {
        "id": "SDdJcHzlOT61"
      },
      "execution_count": null,
      "outputs": []
    },
    {
      "cell_type": "markdown",
      "source": [
        "####Pick one sample file from what was printed earlier"
      ],
      "metadata": {
        "id": "UjHvKjSlahl2"
      }
    },
    {
      "cell_type": "code",
      "source": [
        "import json\n",
        "\n",
        "# Pick one sample file from what was printed earlier\n",
        "sample_file = \"/content/pulse/data/top/user/country/india/state/andhra-pradesh/2020/1.json\"\n",
        "\n",
        "with open(sample_file, \"r\") as f:\n",
        "    data = json.load(f)\n",
        "    print(json.dumps(data, indent=2))  # Pretty print\n"
      ],
      "metadata": {
        "id": "GnVW-EdyNKYl"
      },
      "execution_count": null,
      "outputs": []
    },
    {
      "cell_type": "code",
      "source": [
        "df_district_users.to_sql(\"top_district_users\", conn, if_exists=\"replace\", index=False)\n",
        "df_pincode_users.to_sql(\"top_pincode_users\", conn, if_exists=\"replace\", index=False)\n"
      ],
      "metadata": {
        "id": "m4WvfHrkOY3y"
      },
      "execution_count": null,
      "outputs": []
    },
    {
      "cell_type": "markdown",
      "source": [
        "#### Top 10 districts with most registered users"
      ],
      "metadata": {
        "id": "21PYsOmwanEm"
      }
    },
    {
      "cell_type": "code",
      "source": [
        "# Top 10 districts with most registered users\n",
        "pd.read_sql('''\n",
        "SELECT district, SUM(registered_users) as total_users\n",
        "FROM top_district_users\n",
        "GROUP BY district\n",
        "ORDER BY total_users DESC\n",
        "LIMIT 10\n",
        "''', conn)\n",
        "\n"
      ],
      "metadata": {
        "id": "--M6xzmZOdEh"
      },
      "execution_count": null,
      "outputs": []
    },
    {
      "cell_type": "markdown",
      "source": [
        "### Extract aggregated/transaction"
      ],
      "metadata": {
        "id": "XHf95jANcWuD"
      }
    },
    {
      "cell_type": "markdown",
      "source": [
        "####Print One Sample File to Check Structure"
      ],
      "metadata": {
        "id": "ADYCL0ZIdGVY"
      }
    },
    {
      "cell_type": "code",
      "source": [
        "import json\n",
        "\n",
        "sample_file = \"/content/pulse/data/aggregated/transaction/country/india/state/andhra-pradesh/2018/1.json\"\n",
        "\n",
        "with open(sample_file, \"r\") as f:\n",
        "    data = json.load(f)\n",
        "    import pprint\n",
        "    pprint.pprint(data)\n"
      ],
      "metadata": {
        "id": "tpErEyeQdFAe"
      },
      "execution_count": null,
      "outputs": []
    },
    {
      "cell_type": "markdown",
      "source": [
        "####Extraction Code for aggregated/transaction"
      ],
      "metadata": {
        "id": "Pwkp9XFTcn3-"
      }
    },
    {
      "cell_type": "code",
      "source": [
        "import os\n",
        "import json\n",
        "import pandas as pd\n",
        "\n",
        "transaction_data = []\n",
        "base_path = \"/content/pulse/data/aggregated/transaction/country/india/state/\"\n",
        "\n",
        "for state in os.listdir(base_path):\n",
        "    state_path = os.path.join(base_path, state)\n",
        "    if not os.path.isdir(state_path): continue\n",
        "\n",
        "    for year in os.listdir(state_path):\n",
        "        year_path = os.path.join(state_path, year)\n",
        "        if not os.path.isdir(year_path): continue\n",
        "\n",
        "        for file in os.listdir(year_path):\n",
        "            if file.endswith(\".json\"):\n",
        "                quarter = int(file.replace(\".json\", \"\"))\n",
        "                file_path = os.path.join(year_path, file)\n",
        "\n",
        "                with open(file_path, \"r\") as f:\n",
        "                    try:\n",
        "                        data = json.load(f)\n",
        "                        transactionData = data.get(\"data\", {}).get(\"transactionData\", [])\n",
        "\n",
        "                        for entry in transactionData:\n",
        "                            category = entry.get(\"name\")\n",
        "                            for instrument in entry.get(\"paymentInstruments\", []):\n",
        "                                transaction_data.append({\n",
        "                                    \"state\": state,\n",
        "                                    \"year\": int(year),\n",
        "                                    \"quarter\": quarter,\n",
        "                                    \"payment_type\": category,\n",
        "                                    \"transaction_count\": instrument.get(\"count\", 0),\n",
        "                                    \"transaction_amount\": instrument.get(\"amount\", 0.0)\n",
        "                                })\n",
        "\n",
        "                    except Exception as e:\n",
        "                        print(f\"Error in {file_path}: {e}\")\n",
        "\n",
        "# Convert to DataFrame\n",
        "df_transaction = pd.DataFrame(transaction_data)\n",
        "\n",
        "# Preview\n",
        "print(\" Transaction Data Sample:\")\n",
        "print(df_transaction.head())\n",
        "\n"
      ],
      "metadata": {
        "id": "NxzsofaXcmi1"
      },
      "execution_count": null,
      "outputs": []
    },
    {
      "cell_type": "markdown",
      "source": [
        "####Connect to SQLite Database"
      ],
      "metadata": {
        "id": "tPmVX2vyeNo_"
      }
    },
    {
      "cell_type": "code",
      "source": [
        "import sqlite3\n",
        "\n",
        "# Connect to your PhonePe SQLite DB\n",
        "conn = sqlite3.connect(\"phonepe_data.db\")\n",
        "cursor = conn.cursor()\n"
      ],
      "metadata": {
        "id": "ojmnOroIeVXe"
      },
      "execution_count": null,
      "outputs": []
    },
    {
      "cell_type": "markdown",
      "source": [
        "#### Create a new table for aggregated transactions"
      ],
      "metadata": {
        "id": "d9PGwSAXed-Q"
      }
    },
    {
      "cell_type": "code",
      "source": [
        "# Create a new table for aggregated transactions\n",
        "cursor.execute('''\n",
        "CREATE TABLE IF NOT EXISTS aggregated_transactions (\n",
        "    state TEXT,\n",
        "    year INTEGER,\n",
        "    quarter INTEGER,\n",
        "    payment_type TEXT,\n",
        "    transaction_count INTEGER,\n",
        "    transaction_amount REAL\n",
        ")\n",
        "''')\n",
        "\n",
        "conn.commit()\n"
      ],
      "metadata": {
        "id": "0UIWSBFneZUX"
      },
      "execution_count": null,
      "outputs": []
    },
    {
      "cell_type": "markdown",
      "source": [
        "####Insert DataFrame into SQL Table"
      ],
      "metadata": {
        "id": "VvWBjChseoWM"
      }
    },
    {
      "cell_type": "code",
      "source": [
        "# Insert the dataframe into the SQL table\n",
        "df_transaction.to_sql(\"aggregated_transactions\", conn, if_exists=\"replace\", index=False)\n"
      ],
      "metadata": {
        "id": "88Pq5xYiew6H"
      },
      "execution_count": null,
      "outputs": []
    },
    {
      "cell_type": "markdown",
      "source": [
        "Preview the Table"
      ],
      "metadata": {
        "id": "-GmX0woKe8Mh"
      }
    },
    {
      "cell_type": "code",
      "source": [
        "import pandas as pd\n",
        "\n",
        "# Preview first few rows\n",
        "pd.read_sql(\"SELECT * FROM aggregated_transactions LIMIT 5\", conn)\n"
      ],
      "metadata": {
        "id": "bkjBVSxce1KG"
      },
      "execution_count": null,
      "outputs": []
    },
    {
      "cell_type": "markdown",
      "source": [
        "###Extract aggregated/user next"
      ],
      "metadata": {
        "id": "bHhnAS_3fgbM"
      }
    },
    {
      "cell_type": "markdown",
      "source": [
        "####Print One Sample File to Check Structure"
      ],
      "metadata": {
        "id": "jXAg3JSo_tSQ"
      }
    },
    {
      "cell_type": "code",
      "source": [
        "sample_file = \"/content/pulse/data/aggregated/user/country/india/state/haryana/2024/1.json\"\n",
        "\n",
        "with open(sample_file, \"r\") as f:\n",
        "    import json, pprint\n",
        "    data = json.load(f)\n",
        "    pprint.pprint(data)\n"
      ],
      "metadata": {
        "id": "opFw8eMlf89p"
      },
      "execution_count": null,
      "outputs": []
    },
    {
      "cell_type": "markdown",
      "source": [
        "####Extraction Code for aggregated/user"
      ],
      "metadata": {
        "id": "gWsm9CML-Uql"
      }
    },
    {
      "cell_type": "code",
      "source": [
        "import os\n",
        "import json\n",
        "import pandas as pd\n",
        "\n",
        "user_data = []\n",
        "base_path = \"/content/pulse/data/aggregated/user/country/india/state/\"\n",
        "\n",
        "for state in os.listdir(base_path):\n",
        "    state_path = os.path.join(base_path, state)\n",
        "    if not os.path.isdir(state_path): continue\n",
        "\n",
        "    for year in os.listdir(state_path):\n",
        "        year_path = os.path.join(state_path, year)\n",
        "        if not os.path.isdir(year_path): continue\n",
        "\n",
        "        for file in os.listdir(year_path):\n",
        "            if file.endswith(\".json\"):\n",
        "                quarter = int(file.replace(\".json\", \"\"))\n",
        "                file_path = os.path.join(year_path, file)\n",
        "\n",
        "                with open(file_path, \"r\") as f:\n",
        "                    try:\n",
        "                        data = json.load(f)\n",
        "                        aggregated = data.get(\"data\", {}).get(\"aggregated\", {})\n",
        "\n",
        "                        user_data.append({\n",
        "                            \"state\": state,\n",
        "                            \"year\": int(year),\n",
        "                            \"quarter\": quarter,\n",
        "                            \"registered_users\": aggregated.get(\"registeredUsers\", 0),\n",
        "                            \"app_opens\": aggregated.get(\"appOpens\", 0)\n",
        "                        })\n",
        "\n",
        "                    except Exception as e:\n",
        "                        print(f\"Error in {file_path}: {e}\")\n",
        "\n",
        "# Convert to DataFrame\n",
        "df_user = pd.DataFrame(user_data)\n",
        "\n",
        "# Preview\n",
        "print(\"Cleaned User Data Sample:\")\n",
        "print(df_user.head())\n"
      ],
      "metadata": {
        "id": "iAfvRS1C-TOt"
      },
      "execution_count": null,
      "outputs": []
    },
    {
      "cell_type": "markdown",
      "source": [
        "####Connect to SQLite"
      ],
      "metadata": {
        "id": "9JfxIbsE_0qz"
      }
    },
    {
      "cell_type": "code",
      "source": [
        "import sqlite3\n",
        "\n",
        "conn = sqlite3.connect(\"phonepe_data.db\")\n",
        "cursor = conn.cursor()\n"
      ],
      "metadata": {
        "id": "te8I1vVu_6qf"
      },
      "execution_count": null,
      "outputs": []
    },
    {
      "cell_type": "markdown",
      "source": [
        "####Create aggregated_user Table"
      ],
      "metadata": {
        "id": "0wdtA9RdAFZp"
      }
    },
    {
      "cell_type": "code",
      "source": [
        "cursor.execute('''\n",
        "CREATE TABLE IF NOT EXISTS aggregated_user (\n",
        "    state TEXT,\n",
        "    year INTEGER,\n",
        "    quarter INTEGER,\n",
        "    registered_users INTEGER,\n",
        "    app_opens INTEGER\n",
        ")\n",
        "''')\n",
        "\n",
        "conn.commit()\n"
      ],
      "metadata": {
        "id": "c1Ii0KniALp-"
      },
      "execution_count": null,
      "outputs": []
    },
    {
      "cell_type": "markdown",
      "source": [
        " #### Load DataFrame into SQL"
      ],
      "metadata": {
        "id": "URpkj74wAPpI"
      }
    },
    {
      "cell_type": "code",
      "source": [
        "df_user.to_sql(\"aggregated_user\", conn, if_exists=\"replace\", index=False)\n"
      ],
      "metadata": {
        "id": "HSSF4BUxAUYQ"
      },
      "execution_count": null,
      "outputs": []
    },
    {
      "cell_type": "markdown",
      "source": [
        "#### Preview the Data in SQL"
      ],
      "metadata": {
        "id": "cUDqShLxAeLH"
      }
    },
    {
      "cell_type": "code",
      "source": [
        "import pandas as pd\n",
        "\n",
        "pd.read_sql(\"SELECT * FROM aggregated_user LIMIT 5\", conn)\n"
      ],
      "metadata": {
        "id": "UWExdF_xAjs8"
      },
      "execution_count": null,
      "outputs": []
    },
    {
      "cell_type": "markdown",
      "source": [
        "### Dataset First View"
      ],
      "metadata": {
        "id": "x71ZqKXriCWQ"
      }
    },
    {
      "cell_type": "code",
      "source": [
        "#aggregated_transactions Dataset\n",
        "print(\"Aggregated Transactions Sample:\")\n",
        "print(df_transaction.head())\n",
        "\n",
        "\n",
        "#aggregated_user Dataset\n",
        "print(\"Aggregated User Sample:\")\n",
        "print(df_user.head())\n",
        "\n",
        "\n",
        "#top_district_users Dataset\n",
        "print(\"Top District Users Sample:\")\n",
        "print(df_district_users.head())"
      ],
      "metadata": {
        "id": "LWNFOSvLl09H"
      },
      "execution_count": null,
      "outputs": []
    },
    {
      "cell_type": "markdown",
      "source": [
        "We extracted data from the official PhonePe Pulse GitHub repository. Below are the three structured datasets used in this project:\n",
        "\n",
        "1.  Aggregated Transactions Dataset – Transaction count and amount by state, year, quarter, and category.\n",
        "2. Aggregated User Dataset – App opens and registered users by state, year, and quarter.\n",
        "3. Top District Users Dataset – Top districts by registered users."
      ],
      "metadata": {
        "id": "jwUirZOxCMJ9"
      }
    },
    {
      "cell_type": "markdown",
      "source": [
        "### Dataset Rows & Columns count"
      ],
      "metadata": {
        "id": "7hBIi_osiCS2"
      }
    },
    {
      "cell_type": "code",
      "source": [
        "# Dataset Rows & Columns count\n",
        "print(\" Aggregated Transactions:\")\n",
        "print(f\"Rows: {df_transaction.shape[0]}, Columns: {df_transaction.shape[1]}\")\n",
        "\n",
        "print(\"\\n Aggregated User:\")\n",
        "print(f\"Rows: {df_user.shape[0]}, Columns: {df_user.shape[1]}\")\n",
        "\n",
        "print(\"\\n Top District Users:\")\n",
        "print(f\"Rows: {df_district_users.shape[0]}, Columns: {df_district_users.shape[1]}\")\n",
        "\n"
      ],
      "metadata": {
        "id": "Kllu7SJgmLij"
      },
      "execution_count": null,
      "outputs": []
    },
    {
      "cell_type": "markdown",
      "source": [
        "### Dataset Information"
      ],
      "metadata": {
        "id": "JlHwYmJAmNHm"
      }
    },
    {
      "cell_type": "code",
      "source": [
        "# Dataset Info\n",
        "print(\" Aggregated Transactions Info:\")\n",
        "df_transaction.info()\n",
        "\n",
        "print(\"\\n Aggregated User Info:\")\n",
        "df_user.info()\n",
        "\n",
        "print(\"\\n Top District Users Info:\")\n",
        "df_district_users.info()\n"
      ],
      "metadata": {
        "id": "e9hRXRi6meOf"
      },
      "execution_count": null,
      "outputs": []
    },
    {
      "cell_type": "markdown",
      "source": [
        "#### Duplicate Values"
      ],
      "metadata": {
        "id": "35m5QtbWiB9F"
      }
    },
    {
      "cell_type": "code",
      "source": [
        "# Dataset Duplicate Value Count\n",
        "print(\" Aggregated Transactions Duplicate Rows:\", df_transaction.duplicated().sum())\n",
        "print(\" Aggregated User Duplicate Rows:\", df_user.duplicated().sum())\n",
        "print(\" Top District Users Duplicate Rows:\", df_district_users.duplicated().sum())\n"
      ],
      "metadata": {
        "id": "1sLdpKYkmox0"
      },
      "execution_count": null,
      "outputs": []
    },
    {
      "cell_type": "markdown",
      "source": [
        "#### Missing Values/Null Values"
      ],
      "metadata": {
        "id": "PoPl-ycgm1ru"
      }
    },
    {
      "cell_type": "code",
      "source": [
        "# Missing Values/Null Values Count\n",
        "print(\" Aggregated Transactions Missing Values:\")\n",
        "print(df_transaction.isnull().sum())\n",
        "\n",
        "print(\"\\n Aggregated User Missing Values:\")\n",
        "print(df_user.isnull().sum())\n",
        "\n",
        "print(\"\\n Top District Users Missing Values:\")\n",
        "print(df_district_users.isnull().sum())"
      ],
      "metadata": {
        "id": "GgHWkxvamxVg"
      },
      "execution_count": null,
      "outputs": []
    },
    {
      "cell_type": "code",
      "source": [
        "# Visualizing the missing values\n",
        "import seaborn as sns\n",
        "import matplotlib.pyplot as plt\n",
        "\n",
        "plt.figure(figsize=(8, 2))\n",
        "sns.heatmap(df_transaction.isnull(), cbar=False, cmap=\"Reds\", yticklabels=False)\n",
        "plt.title(\"Missing Values - Aggregated Transactions\")\n",
        "plt.show()\n",
        "\n"
      ],
      "metadata": {
        "id": "3q5wnI3om9sJ"
      },
      "execution_count": null,
      "outputs": []
    },
    {
      "cell_type": "code",
      "source": [
        "plt.figure(figsize=(8, 2))\n",
        "sns.heatmap(df_user.isnull(), cbar=False, cmap=\"Blues\", yticklabels=False)\n",
        "plt.title(\" Missing Values - Aggregated User\")\n",
        "plt.show()"
      ],
      "metadata": {
        "id": "j5hK1FjZD6yf"
      },
      "execution_count": null,
      "outputs": []
    },
    {
      "cell_type": "code",
      "source": [
        "plt.figure(figsize=(8, 2))\n",
        "sns.heatmap(df_district_users.isnull(), cbar=False, cmap=\"Greens\", yticklabels=False)\n",
        "plt.title(\"Missing Values - Top District Users\")\n",
        "plt.show()"
      ],
      "metadata": {
        "id": "sAuxKxo4EEpY"
      },
      "execution_count": null,
      "outputs": []
    },
    {
      "cell_type": "markdown",
      "source": [
        "### What did you know about your dataset?"
      ],
      "metadata": {
        "id": "H0kj-8xxnORC"
      }
    },
    {
      "cell_type": "markdown",
      "source": [
        "After performing data extraction, inspection, and cleanup, I discovered the following about my PhonePe datasets:\n",
        "\n",
        "- The data is well-structured and organized by state, year, and quarter.\n",
        "- Three key datasets were extracted:\n",
        "  - Aggregated Transactions: Includes transaction types, total amount, and count.\n",
        "  - Aggregated Users: Captures registered users and app opens.\n",
        "  - Top District Users: Lists top-performing districts by user count.\n",
        "\n",
        "- No missing or duplicate values were found, ensuring data quality.\n",
        "- Granular details are available at the district and pin code level in some cases.\n",
        "- A variety of payment types are included, such as:\n",
        "  - Peer-to-peer\n",
        "  - Merchant payments\n",
        "  - Recharge & bill payments\n",
        "  - Financial services\n",
        "  - Others\n",
        "\n",
        "- The dataset has a time-series structure, allowing for trend and growth analysis across quarters and years.\n",
        "- The data enables geographic insights by state and district.\n",
        "\n",
        "Overall, the data is ideal for:\n",
        "- Regional performance comparisons\n",
        "- Transaction growth trends\n",
        "- User engagement and app behavior analysis\n",
        "- Insurance sector exploration\n"
      ],
      "metadata": {
        "id": "gfoNAAC-nUe_"
      }
    },
    {
      "cell_type": "markdown",
      "source": [
        "## ***2. Understanding Your Variables***"
      ],
      "metadata": {
        "id": "nA9Y7ga8ng1Z"
      }
    },
    {
      "cell_type": "code",
      "source": [
        "# Dataset Columns\n",
        "print(\"Aggregated Transactions Columns:\", df_transaction.columns.tolist())\n",
        "print(\"Aggregated User Columns:\", df_user.columns.tolist())\n",
        "print(\"Top District Users Columns:\", df_district_users.columns.tolist())\n"
      ],
      "metadata": {
        "id": "j7xfkqrt5Ag5"
      },
      "execution_count": null,
      "outputs": []
    },
    {
      "cell_type": "code",
      "source": [
        "# Dataset Describe\n",
        "print(\"Aggregated Transactions Summary:\")\n",
        "print(df_transaction.describe())\n",
        "\n",
        "print(\"\\nAggregated User Summary:\")\n",
        "print(df_user.describe())\n",
        "\n",
        "print(\"\\nTop District Users Summary:\")\n",
        "print(df_district_users.describe())\n"
      ],
      "metadata": {
        "id": "DnOaZdaE5Q5t"
      },
      "execution_count": null,
      "outputs": []
    },
    {
      "cell_type": "markdown",
      "source": [
        "### Variables Description"
      ],
      "metadata": {
        "id": "PBTbrJXOngz2"
      }
    },
    {
      "cell_type": "markdown",
      "source": [
        "Dataset Columns-\n",
        "Each dataset contains logically named and relevant columns, making them ready for direct analysis and visualization.\n",
        "\n",
        "Aggregated Transactions:\n",
        "Columns - state, year, quarter, payment_type, transaction_count, transaction_amount\n",
        "\n",
        "Aggregated User:\n",
        "Columns - state, year, quarter, registered_users, app_opens\n",
        "\n",
        "Top District Users:\n",
        "Columns - state, year, quarter, district, registered_users\n",
        "\n",
        "Dataset Describe (Statistical Summary)\n",
        "This section presents the descriptive statistics of the numerical variables in all three datasets:\n",
        "\n",
        "Aggregated Transactions Summary:\n",
        "The transaction_count ranges from just 2 to over 2.3 billion, indicating huge variation in activity across regions and time.\n",
        "\n",
        "transaction_amount similarly ranges widely, with some quarters/states having very high monetary volumes (max: 3.09 trillion).\n",
        "\n",
        "Aggregated User Summary:\n",
        "The number of registered_users spans from around 500 to over 71 million.\n",
        "\n",
        "app_opens varies widely as well, reaching over 5.3 billion in some quarters.\n",
        "\n",
        "Top District Users Summary:\n",
        "District-level registration counts are highly variable, with some districts reaching over 18 million users.\n",
        "\n"
      ],
      "metadata": {
        "id": "aJV4KIxSnxay"
      }
    },
    {
      "cell_type": "markdown",
      "source": [
        "### Check Unique Values for each variable."
      ],
      "metadata": {
        "id": "u3PMJOP6ngxN"
      }
    },
    {
      "cell_type": "code",
      "source": [
        "# Check Unique Values for each variable.\n",
        "print(\"Aggregated Transactions Unique Values:\")\n",
        "print(df_transaction.nunique())\n",
        "\n",
        "print(\"\\nAggregated User Unique Values:\")\n",
        "print(df_user.nunique())\n",
        "\n",
        "print(\"\\nTop District Users Unique Values:\")\n",
        "print(df_district_users.nunique())\n"
      ],
      "metadata": {
        "id": "zms12Yq5n-jE"
      },
      "execution_count": null,
      "outputs": []
    },
    {
      "cell_type": "code",
      "source": [
        "# Save the final SQL query result DataFrames to CSV\n",
        "df_transaction.to_csv(\"aggregated_transactions.csv\", index=False)\n",
        "df_user.to_csv(\"aggregated_user.csv\", index=False)\n",
        "df_district_users.to_csv(\"top_district_users.csv\", index=False)\n"
      ],
      "metadata": {
        "id": "Z3tmhUgnZXSB"
      },
      "execution_count": null,
      "outputs": []
    },
    {
      "cell_type": "markdown",
      "source": [
        "## 3. ***Data Wrangling***"
      ],
      "metadata": {
        "id": "dauF4eBmngu3"
      }
    },
    {
      "cell_type": "markdown",
      "source": [
        "### Data Wrangling Code"
      ],
      "metadata": {
        "id": "bKJF3rekwFvQ"
      }
    },
    {
      "cell_type": "code",
      "source": [
        "# Write your code to make your dataset analysis ready.\n",
        "# Standard Imports\n",
        "import pandas as pd\n",
        "import numpy as np\n",
        "\n",
        "\n",
        "# Aggregated Transactions Cleanup\n",
        "\n",
        "df_transaction['state'] = df_transaction['state'].str.strip().str.lower()\n",
        "df_transaction['payment_type'] = df_transaction['payment_type'].str.strip()\n",
        "\n",
        "# Ensure correct data types\n",
        "df_transaction['year'] = df_transaction['year'].astype(int)\n",
        "df_transaction['quarter'] = df_transaction['quarter'].astype(int)\n",
        "df_transaction['transaction_count'] = df_transaction['transaction_count'].astype(int)\n",
        "df_transaction['transaction_amount'] = df_transaction['transaction_amount'].astype(float)\n",
        "\n",
        "\n",
        "# Aggregated User Cleanup\n",
        "\n",
        "df_user['state'] = df_user['state'].str.strip().str.lower()\n",
        "df_user['year'] = df_user['year'].astype(int)\n",
        "df_user['quarter'] = df_user['quarter'].astype(int)\n",
        "df_user['registered_users'] = df_user['registered_users'].astype(int)\n",
        "df_user['app_opens'] = df_user['app_opens'].astype(int)\n",
        "\n",
        "\n",
        "# Top District Users Cleanup\n",
        "\n",
        "df_district_users['state'] = df_district_users['state'].str.strip().str.lower()\n",
        "df_district_users['district'] = df_district_users['district'].str.strip().str.lower()\n",
        "df_district_users['year'] = df_district_users['year'].astype(int)\n",
        "df_district_users['quarter'] = df_district_users['quarter'].astype(int)\n",
        "df_district_users['registered_users'] = df_district_users['registered_users'].astype(int)\n",
        "\n",
        "\n",
        "# Reset index to avoid indexing issues during merging or visualizations\n",
        "\n",
        "df_transaction.reset_index(drop=True, inplace=True)\n",
        "df_user.reset_index(drop=True, inplace=True)\n",
        "df_district_users.reset_index(drop=True, inplace=True)\n",
        "\n"
      ],
      "metadata": {
        "id": "wk-9a2fpoLcV"
      },
      "execution_count": null,
      "outputs": []
    },
    {
      "cell_type": "markdown",
      "source": [
        "### What all manipulations have you done and insights you found?"
      ],
      "metadata": {
        "id": "MSa1f5Uengrz"
      }
    },
    {
      "cell_type": "markdown",
      "source": [
        "To prepare the data for analysis, I removed duplicates (none were found), checked for and confirmed no missing values, standardized state and district names to lowercase, and ensured all numeric columns were correctly typed. I also added a year_quarter column to simplify time-based analysis.\n",
        "\n",
        "From this initial exploration, I found that the datasets cover seven years across all Indian states and union territories, with significant variation in transaction volume and user engagement. Some districts show unusually high registration growth, which may be worth investigating further during visualization."
      ],
      "metadata": {
        "id": "LbyXE7I1olp8"
      }
    },
    {
      "cell_type": "markdown",
      "source": [
        "## ***4. Data Vizualization, Storytelling & Experimenting with charts : Understand the relationships between variables***"
      ],
      "metadata": {
        "id": "GF8Ens_Soomf"
      }
    },
    {
      "cell_type": "markdown",
      "source": [
        "#### Chart - 1 Total Transaction Amount by State (Top 10 States)"
      ],
      "metadata": {
        "id": "0wOQAZs5pc--"
      }
    },
    {
      "cell_type": "code",
      "source": [
        "# Chart - 1 visualization code\n",
        "top_states = df_transaction.groupby(\"state\")[\"transaction_amount\"].sum().sort_values(ascending=False).head(10)\n",
        "\n",
        "top_states.plot(kind=\"barh\", figsize=(10,6), color=\"teal\")\n",
        "plt.xlabel(\"Total Transaction Amount\")\n",
        "plt.title(\"Top 10 States by Total Transaction Volume\")\n",
        "plt.gca().invert_yaxis()\n",
        "plt.tight_layout()\n",
        "plt.show()\n"
      ],
      "metadata": {
        "id": "7v_ESjsspbW7"
      },
      "execution_count": null,
      "outputs": []
    },
    {
      "cell_type": "markdown",
      "source": [
        "1. Why did you pick the specific chart?\n",
        "-A horizontal bar chart is ideal for ranking states by total transaction amount. It provides a clear visual comparison of the top-performing states, making it easy to identify leaders in transaction volume.\n",
        "\n",
        "2. What is/are the insight(s) found from the chart?\n",
        "-States like Maharashtra, Karnataka, and Telangana consistently top the list in terms of transaction value. This indicates higher digital adoption and economic activity in these regions. The gap between the top and bottom states in the top 10 is also noticeable.\n",
        "\n",
        "3. Will the gained insights help create a positive business impact?\n",
        "-Yes. These insights help prioritize resource allocation, marketing campaigns, and partnership efforts in high-performing states to further boost adoption and engagement.\n",
        "\n",
        "4. Are there any insights that lead to negative growth? Justify with specific reason.\n",
        "-While not directly negative, states outside the top 10 with lower transaction volumes might reflect underperformance or lower digital penetration. This suggests a need for targeted awareness and support campaigns in those regions.\n",
        "\n"
      ],
      "metadata": {
        "id": "XESiWehPqBRc"
      }
    },
    {
      "cell_type": "markdown",
      "source": [
        "#### Chart - 2Trend of App Opens Over Time in a State"
      ],
      "metadata": {
        "id": "KSlN3yHqYklG"
      }
    },
    {
      "cell_type": "code",
      "source": [
        "# Chart - 2 visualization code\n",
        "# Ensure year_quarter exists in df_user\n",
        "if \"year_quarter\" not in df_user.columns:\n",
        "    df_user[\"year_quarter\"] = df_user[\"year\"].astype(str) + \"-Q\" + df_user[\"quarter\"].astype(str)\n",
        "\n",
        "# Filter after adding the column\n",
        "state_name = \"karnataka\"  # or any state of your choice, in lowercase\n",
        "df_state = df_user[df_user[\"state\"] == state_name.lower()]\n",
        "\n",
        "# Sort for correct time order\n",
        "df_state = df_state.sort_values(\"year_quarter\")\n",
        "\n",
        "# Now plot\n",
        "import matplotlib.pyplot as plt\n",
        "import seaborn as sns\n",
        "\n",
        "plt.figure(figsize=(10,6))\n",
        "sns.lineplot(data=df_state, x=\"year_quarter\", y=\"app_opens\", marker='o')\n",
        "plt.xticks(rotation=45)\n",
        "plt.title(f\"App Opens Over Time in {state_name.title()}\")\n",
        "plt.ylabel(\"App Opens\")\n",
        "plt.tight_layout()\n",
        "plt.show()\n",
        "\n"
      ],
      "metadata": {
        "id": "R4YgtaqtYklH"
      },
      "execution_count": null,
      "outputs": []
    },
    {
      "cell_type": "markdown",
      "source": [
        "1. Why did you pick the specific chart?\n",
        "-A line chart effectively displays temporal trends in user engagement for a specific state. In this case, plotting app opens over quarters allows us to track user interaction patterns and behavioral shifts.\n",
        "\n",
        "2. What is/are the insight(s) found from the chart?\n",
        "-The chart reveals fluctuations and overall growth trends in app usage in Karnataka. Peaks might align with promotional campaigns, new feature rollouts, or seasonal transaction surges (e.g., festivals, financial year-end). Consistent growth indicates strong user retention.\n",
        "\n",
        "3. Will the gained insights help create a positive business impact?\n",
        "-Yes. Understanding app engagement trends helps optimize feature updates, time marketing campaigns effectively, and predict future load on the system. It also supports state-level user engagement strategies.\n",
        "\n",
        "4. Are there any insights that lead to negative growth? Justify with specific reason.\n",
        "-If the chart shows drops in app opens during certain quarters, it could reflect technical issues, loss of interest, or competition. Such dips highlight the need for user re-engagement strategies or further investigation into root causes.\n",
        "\n"
      ],
      "metadata": {
        "id": "BXhz1DvqewdV"
      }
    },
    {
      "cell_type": "markdown",
      "source": [],
      "metadata": {
        "id": "5aaW0BYyYklI"
      }
    },
    {
      "cell_type": "markdown",
      "source": [
        "#### Chart - 3 Distribution of Transaction Types Across India"
      ],
      "metadata": {
        "id": "EM7whBJCYoAo"
      }
    },
    {
      "cell_type": "code",
      "source": [
        "# Chart - 3 visualization code\n",
        "tx_type_dist = df_transaction.groupby(\"payment_type\")[\"transaction_amount\"].sum()\n",
        "\n",
        "plt.figure(figsize=(8,8))\n",
        "plt.pie(tx_type_dist, labels=tx_type_dist.index, autopct='%1.1f%%', startangle=140)\n",
        "plt.title(\"Distribution of Transaction Amount by Payment Type\")\n",
        "plt.axis('equal')\n",
        "plt.tight_layout()\n",
        "plt.show()\n"
      ],
      "metadata": {
        "id": "t6GMdE67YoAp"
      },
      "execution_count": null,
      "outputs": []
    },
    {
      "cell_type": "markdown",
      "source": [
        "1. Why did you pick the specific chart?\n",
        "-A pie chart is ideal for visualizing proportion-based comparisons. It clearly shows how different payment types contribute to the total transaction amount, making it easy to understand category dominance.\n",
        "\n",
        "2. What is/are the insight(s) found from the chart?\n",
        "-The chart reveals which payment types, such as peer-to-peer transfers, merchant payments, or bill payments, dominate transaction volumes. For instance, if peer-to-peer transactions account for over 50%, it signals a user preference for direct transfers.\n",
        "\n",
        "3. Will the gained insights help create a positive business impact?\n",
        "-Yes. Insights into popular payment categories help focus investments and product enhancements. For example, if merchant payments are low, PhonePe can introduce targeted cashback offers or partnerships with local sellers.\n",
        "\n",
        "4. Are there any insights that lead to negative growth? Justify with specific reason.\n",
        "-Yes, if a transaction type consistently has a minimal share (like financial services or others), it may indicate underutilization. This could reflect a need for awareness campaigns, UI improvements, or discontinuation due to lack of adoption.\n",
        "\n"
      ],
      "metadata": {
        "id": "5dBItgRVYoAp"
      }
    },
    {
      "cell_type": "markdown",
      "source": [
        "#### Chart - 4 Quarterly Growth in Registered Users"
      ],
      "metadata": {
        "id": "4Of9eVA-YrdM"
      }
    },
    {
      "cell_type": "code",
      "source": [
        "# Chart - 4 visualization code\n",
        "growth = df_user.groupby(\"year_quarter\")[\"registered_users\"].sum().reset_index()\n",
        "\n",
        "plt.figure(figsize=(12,6))\n",
        "sns.lineplot(data=growth, x=\"year_quarter\", y=\"registered_users\", marker='o')\n",
        "plt.xticks(rotation=45)\n",
        "plt.title(\"Quarterly Growth in Registered Users (All States)\")\n",
        "plt.ylabel(\"Registered Users\")\n",
        "plt.tight_layout()\n",
        "plt.show()\n"
      ],
      "metadata": {
        "id": "irlUoxc8YrdO"
      },
      "execution_count": null,
      "outputs": []
    },
    {
      "cell_type": "markdown",
      "source": [
        "1. Why did you pick the specific chart?\n",
        "-A line chart is well-suited for showing trends over time. This chart visually communicates how the number of registered users on PhonePe has changed quarter by quarter across all states.\n",
        "\n",
        "2. What is/are the insight(s) found from the chart?\n",
        "-The line chart typically shows a steady or steep upward trend, indicating growing adoption of the PhonePe platform. Sharp rises in specific quarters may align with festive seasons, promotional campaigns, or digital adoption boosts like UPI expansion.\n",
        "\n",
        "3. Will the gained insights help create a positive business impact?\n",
        "-Yes. Understanding when and how user registrations surged can help in planning future marketing campaigns, infrastructure scaling, and customer support readiness during high-demand periods.\n",
        "\n",
        "4. Are there any insights that lead to negative growth? Justify with specific reason.\n",
        "-Yes. Any dips or flat lines in the chart suggest stagnation or loss in user acquisition momentum. This could happen due to market saturation, technical issues, or stronger competitor offers. Identifying these periods helps in targeted corrective action.\n",
        "\n"
      ],
      "metadata": {
        "id": "aJRCwT6DYrdO"
      }
    },
    {
      "cell_type": "markdown",
      "source": [
        "#### Chart - 5"
      ],
      "metadata": {
        "id": "bamQiAODYuh1"
      }
    },
    {
      "cell_type": "code",
      "source": [
        "# Chart - 5 visualization code\n",
        "# Ensure 'year_quarter' exists in df_district_users\n",
        "if \"year_quarter\" not in df_district_users.columns:\n",
        "    df_district_users[\"year_quarter\"] = df_district_users[\"year\"].astype(str) + \"-Q\" + df_district_users[\"quarter\"].astype(str)\n",
        "\n",
        "# Find the latest quarter in the dataset\n",
        "latest_qtr = df_district_users[\"year_quarter\"].max()\n",
        "\n",
        "# Filter for that latest quarter\n",
        "latest = df_district_users[df_district_users[\"year_quarter\"] == latest_qtr]\n",
        "\n",
        "# Sort and get top 10 districts by registered users\n",
        "top_districts = latest.sort_values(\"registered_users\", ascending=False).head(10)\n",
        "\n",
        "# Plot\n",
        "import seaborn as sns\n",
        "import matplotlib.pyplot as plt\n",
        "\n",
        "plt.figure(figsize=(10,6))\n",
        "sns.barplot(data=top_districts, x=\"registered_users\", y=\"district\", palette=\"mako\")\n",
        "plt.title(f\"Top 10 Districts by Registered Users ({latest_qtr})\")\n",
        "plt.xlabel(\"Registered Users\")\n",
        "plt.ylabel(\"District\")\n",
        "plt.tight_layout()\n",
        "plt.show()\n",
        "\n"
      ],
      "metadata": {
        "id": "TIJwrbroYuh3"
      },
      "execution_count": null,
      "outputs": []
    },
    {
      "cell_type": "markdown",
      "source": [
        "1. Why did you pick the specific chart?\n",
        "-A bar chart is ideal for comparing values across discrete categories. Here, it effectively highlights the top 10 districts with the highest number of registered users in the most recent quarter.\n",
        "\n",
        "2. What is/are the insight(s) found from the chart?\n",
        "-Districts like Bengaluru Urban, Pune, and Thane emerge as major user bases for PhonePe. These urban centers show high digital payment adoption, likely due to dense populations, tech-savvy users, and strong local economies.\n",
        "\n",
        "3. Will the gained insights help create a positive business impact?\n",
        "-Absolutely. These insights help PhonePe focus on maintaining service reliability and expanding features in high-performing districts. Additionally, these districts could be early adopters for beta testing new features or insurance offerings.\n",
        "\n",
        "4. Are there any insights that lead to negative growth? Justify with specific reason.\n",
        "-Yes, indirectly. If a major district is missing from this top list despite population size or previous performance, it could signal slowing adoption or churn. This warrants further investigation into user experience issues, competitor entry, or service limitations in that district."
      ],
      "metadata": {
        "id": "dcxuIMRPYuh3"
      }
    },
    {
      "cell_type": "markdown",
      "source": [
        "#### Chart - 6 Heatmap of Transaction Amounts Across States by Quarter"
      ],
      "metadata": {
        "id": "OH-pJp9IphqM"
      }
    },
    {
      "cell_type": "code",
      "source": [
        "# Chart - 6 visualization code\n",
        "# Ensure 'year_quarter' exists in df_transaction\n",
        "if \"year_quarter\" not in df_transaction.columns:\n",
        "    df_transaction[\"year_quarter\"] = df_transaction[\"year\"].astype(str) + \"-Q\" + df_transaction[\"quarter\"].astype(str)\n",
        "\n",
        "# Create pivot table\n",
        "pivot_data = df_transaction.pivot_table(index=\"state\",\n",
        "                                        columns=\"year_quarter\",\n",
        "                                        values=\"transaction_amount\",\n",
        "                                        aggfunc=\"sum\")\n",
        "\n",
        "# Plot heatmap\n",
        "import seaborn as sns\n",
        "import matplotlib.pyplot as plt\n",
        "\n",
        "plt.figure(figsize=(16,10))\n",
        "sns.heatmap(pivot_data, cmap=\"YlGnBu\", linewidths=0.5, linecolor='gray')\n",
        "plt.title(\"Heatmap: State vs Quarter Transaction Amounts\")\n",
        "plt.xlabel(\"Quarter\")\n",
        "plt.ylabel(\"State\")\n",
        "plt.tight_layout()\n",
        "plt.show()\n",
        "\n"
      ],
      "metadata": {
        "id": "kuRf4wtuphqN"
      },
      "execution_count": null,
      "outputs": []
    },
    {
      "cell_type": "markdown",
      "source": [
        "1. Why did you pick the specific chart?\n",
        "-A heatmap is excellent for showing two-dimensional data trends here, states vs. quarters. It reveals patterns and fluctuations in transaction amounts across both time and geography, making it easy to spot highs, lows, and inconsistencies.\n",
        "\n",
        "2. What is/are the insight(s) found from the chart?\n",
        "\n",
        "-States like Maharashtra, Karnataka, and Telangana consistently report higher transaction amounts.\n",
        "\n",
        "Some states show seasonal or quarter-specific spikes (e.g., Q4s have higher volumes in many cases).\n",
        "\n",
        "Underperforming states or inconsistent patterns can also be spotted easily.\n",
        "\n",
        "3. Will the gained insights help create a positive business impact?\n",
        "-Yes. It enables the team to:\n",
        "\n",
        "Identify consistently high-performing states for further investment and innovation.\n",
        "\n",
        "Recognize under-utilized regions to tailor marketing campaigns, partnerships, or offer localized incentives.\n",
        "\n",
        "Forecast seasonal spikes for better infrastructure scaling.\n",
        "\n",
        "4. Are there any insights that lead to negative growth? Justify with specific reason.\n",
        "-Yes. States with declining or stagnant transaction amounts over recent quarters might indicate:\n",
        "\n",
        "Customer dissatisfaction or migration to competitors.\n",
        "\n",
        "Lack of awareness or trust in digital payments.\n",
        "\n",
        "Infrastructure or policy issues.\n",
        "These areas can be flagged for focused research and corrective strategy.\n",
        "\n"
      ],
      "metadata": {
        "id": "loh7H2nzphqN"
      }
    },
    {
      "cell_type": "markdown",
      "source": [
        "#### Chart - 7 Scatter Plot – App Opens vs Transaction Amount (State Level)"
      ],
      "metadata": {
        "id": "PIIx-8_IphqN"
      }
    },
    {
      "cell_type": "code",
      "source": [
        "# Chart - 7 visualization code\n",
        "\n",
        "merged = df_transaction.groupby(\"state\")[\"transaction_amount\"].sum().reset_index()\n",
        "merged = merged.merge(df_user.groupby(\"state\")[\"app_opens\"].sum().reset_index(), on=\"state\")\n",
        "\n",
        "plt.figure(figsize=(10,6))\n",
        "sns.scatterplot(data=merged, x=\"app_opens\", y=\"transaction_amount\", hue=\"state\")\n",
        "plt.title(\"App Opens vs Transaction Amount (State Level)\")\n",
        "plt.xlabel(\"Total App Opens\")\n",
        "plt.ylabel(\"Total Transaction Amount\")\n",
        "plt.tight_layout()\n",
        "plt.show()\n"
      ],
      "metadata": {
        "id": "lqAIGUfyphqO"
      },
      "execution_count": null,
      "outputs": []
    },
    {
      "cell_type": "markdown",
      "source": [
        "1. Why did you pick the specific chart?\n",
        "A scatter plot is ideal for showing relationships or correlations between two continuous variables, here, App Opens and Transaction Amount. It helps visualize whether states with higher engagement also experience higher transaction volumes.\n",
        "\n",
        "2. What is/are the insight(s) found from the chart?\n",
        "\n",
        "There's a positive correlation between app opens and transaction amount — states like Maharashtra, Karnataka, and Uttar Pradesh show both high app activity and high transaction volume.\n",
        "\n",
        "A few states may show high app opens but relatively lower transactions, suggesting usage without financial activity.\n",
        "\n",
        "Conversely, some states with modest app opens still show good transaction volumes, possibly due to higher-value or business-driven usage.\n",
        "\n",
        "3. Will the gained insights help create a positive business impact?\n",
        "Yes. This chart helps:\n",
        "\n",
        "Understand user quality, not just quantity, focus on states where app usage converts well into transactions.\n",
        "\n",
        "Prioritize engagement strategies in states where user activity is high but conversion is low.\n",
        "\n",
        "Optimize resource allocation toward states offering the best return per user.\n",
        "\n",
        "4. Are there any insights that lead to negative growth? Justify with specific reason.\n",
        "Yes. If a state has high app opens but low transaction volume, it could point to:\n",
        "\n",
        "Poor UX leading to drop-offs before transaction completion.\n",
        "\n",
        "Users just exploring but not trusting the platform enough to transact.\n",
        "\n",
        "Network or integration issues with local merchants/banks.\n",
        "\n"
      ],
      "metadata": {
        "id": "iv6ro40sphqO"
      }
    },
    {
      "cell_type": "markdown",
      "source": [
        "#### Chart - 14 - Correlation Heatmap"
      ],
      "metadata": {
        "id": "NC_X3p0fY2L0"
      }
    },
    {
      "cell_type": "code",
      "source": [
        "# Correlation Heatmap visualization code\n",
        "import matplotlib.pyplot as plt\n",
        "import seaborn as sns\n",
        "\n",
        "# Select only numeric columns from df_transaction\n",
        "corr_data = df_transaction[[\"transaction_count\", \"transaction_amount\"]]\n",
        "\n",
        "# Compute correlation matrix\n",
        "corr_matrix = corr_data.corr()\n",
        "\n",
        "# Plot the heatmap\n",
        "plt.figure(figsize=(6,5))\n",
        "sns.heatmap(corr_matrix, annot=True, cmap=\"coolwarm\", linewidths=0.5)\n",
        "plt.title(\"Correlation Heatmap (Transaction Data)\")\n",
        "plt.tight_layout()\n",
        "plt.show()\n"
      ],
      "metadata": {
        "id": "xyC9zolEZNRQ"
      },
      "execution_count": null,
      "outputs": []
    },
    {
      "cell_type": "markdown",
      "source": [
        "1. Why did you pick the specific chart?\n",
        "A correlation heatmap visually shows the strength and direction of relationships between multiple numerical variables. It is especially useful in exploring how different metrics, like transaction_amount, transaction_count, registered_users, and app_opens,are related.\n",
        "\n",
        "2. What is/are the insight(s) found from the chart?\n",
        "\n",
        "Strong positive correlation between:\n",
        "\n",
        "transaction_amount and transaction_count, more transactions typically lead to higher total amount.\n",
        "\n",
        "registered_users and app_opens , more users usually drive more engagement.\n",
        "\n",
        "Moderate to strong positive correlation between:\n",
        "\n",
        "app_opens and transaction_amount ,higher engagement seems to contribute to higher financial activity.\n",
        "\n",
        "Very weak or no negative correlations , suggesting most metrics move positively together.\n",
        "\n",
        "3. Will the gained insights help create a positive business impact?\n",
        "Absolutely. This chart helps:\n",
        "\n",
        "Validate key business assumptions ,that growing user base and activity leads to more transactions.\n",
        "\n",
        "Prioritize focus areas , e.g., improving app engagement could indirectly boost transactions.\n",
        "\n",
        "Identify variables for predictive models in future ML/data science tasks.\n",
        "\n",
        "4. Are there any insights that lead to negative growth? Justify with specific reason.\n",
        "No direct signs of negative growth. However:\n",
        "\n",
        "If any pair showed a weak or no correlation, it would suggest that increasing one metric may not guarantee gains in another (e.g., more users not transacting).\n",
        "\n",
        "It flags potential inefficiencies — states with high registrations but low transactions might require deeper review."
      ],
      "metadata": {
        "id": "DVPuT8LYZNRQ"
      }
    },
    {
      "cell_type": "markdown",
      "source": [
        "#### Chart - 15 - Pair Plot"
      ],
      "metadata": {
        "id": "q29F0dvdveiT"
      }
    },
    {
      "cell_type": "code",
      "source": [
        "# Pair Plot visualization code\n",
        "import seaborn as sns\n",
        "import matplotlib.pyplot as plt\n",
        "\n",
        "# Select numeric columns for the pair plot\n",
        "plot_data = df_transaction[[\"transaction_count\", \"transaction_amount\"]]\n",
        "\n",
        "# Optional: downsample to avoid overcrowding\n",
        "plot_data_sample = plot_data.sample(n=500, random_state=1)\n",
        "\n",
        "# Create the pair plot\n",
        "sns.pairplot(plot_data_sample)\n",
        "plt.suptitle(\"Pair Plot - Transaction Data\", y=1.02)\n",
        "plt.tight_layout()\n",
        "plt.show()\n"
      ],
      "metadata": {
        "id": "o58-TEIhveiU"
      },
      "execution_count": null,
      "outputs": []
    },
    {
      "cell_type": "code",
      "source": [
        "plot_data = df_user[[\"registered_users\", \"app_opens\"]]\n",
        "sns.pairplot(plot_data)\n",
        "plt.suptitle(\"Pair Plot - User Data\", y=1.02)\n",
        "plt.tight_layout()\n",
        "plt.show()\n"
      ],
      "metadata": {
        "id": "LGK5ZctzLnwl"
      },
      "execution_count": null,
      "outputs": []
    },
    {
      "cell_type": "markdown",
      "source": [
        "✅ Chart 15: Pair Plot of Key Metrics\n",
        "1. Why did you pick the specific chart?\n",
        "A pair plot is ideal when you want to analyze relationships between multiple variables simultaneously. It plots scatterplots for every pair of features and histograms for individual distributions, offering a quick overview of trends, clusters, and outliers across metrics like transaction_amount, transaction_count, registered_users, and app_opens.\n",
        "\n",
        "2. What is/are the insight(s) found from the chart?\n",
        "\n",
        "Clear positive correlations are observed between:\n",
        "\n",
        "transaction_amount and transaction_count\n",
        "\n",
        "app_opens and registered_users\n",
        "\n",
        "The distributions (diagonal histograms) show that:\n",
        "\n",
        "A few states have very high values (long-tailed distribution), suggesting skewed contribution.\n",
        "\n",
        "The plots help identify clusters of similar-performing states and outliers that either perform exceptionally well or poorly."
      ],
      "metadata": {
        "id": "eMmPjTByveiU"
      }
    },
    {
      "cell_type": "markdown",
      "source": [
        "# **5. Solution to Business Objective**"
      ],
      "metadata": {
        "id": "JcMwzZxoAimU"
      }
    },
    {
      "cell_type": "markdown",
      "source": [
        "## **Business SQL Queries**"
      ],
      "metadata": {
        "id": "R34vBhAAMtTp"
      }
    },
    {
      "cell_type": "markdown",
      "source": [
        "#### Confirms SQL Tables"
      ],
      "metadata": {
        "id": "z6JrUA5rMzNy"
      }
    },
    {
      "cell_type": "code",
      "source": [
        "import sqlite3\n",
        "conn = sqlite3.connect(\"phonepe_data.db\")\n",
        "\n",
        "# See if tables exist and preview structure\n",
        "print(pd.read_sql(\"SELECT name FROM sqlite_master WHERE type='table';\", conn))\n",
        "print(pd.read_sql(\"PRAGMA table_info(aggregated_transactions);\", conn))\n",
        "print(pd.read_sql(\"PRAGMA table_info(aggregated_users);\", conn))\n",
        "print(pd.read_sql(\"PRAGMA table_info(top_district_users);\", conn))\n",
        "# Re-import df_user to fix the empty table issue\n",
        "df_user.to_sql(\"aggregated_user\", conn, if_exists=\"replace\", index=False)\n",
        "\n"
      ],
      "metadata": {
        "id": "IB9QlQaVMyCG"
      },
      "execution_count": null,
      "outputs": []
    },
    {
      "cell_type": "markdown",
      "source": [
        "####Business Case 1: Decoding Transaction Dynamics on PhonePe"
      ],
      "metadata": {
        "id": "nTiL4BArNwP5"
      }
    },
    {
      "cell_type": "markdown",
      "source": [
        "#####Query: Top 10 states with highest transaction amount (2024 Q4)"
      ],
      "metadata": {
        "id": "BtibpC-rN4T_"
      }
    },
    {
      "cell_type": "code",
      "source": [
        "query1 = \"\"\"\n",
        "SELECT state, payment_type,\n",
        "       SUM(transaction_count) AS total_txn_count,\n",
        "       SUM(transaction_amount) AS total_txn_amt\n",
        "FROM aggregated_transactions\n",
        "WHERE year = 2024 AND quarter = 4\n",
        "GROUP BY state, payment_type\n",
        "ORDER BY total_txn_amt DESC\n",
        "LIMIT 10;\n",
        "\"\"\"\n",
        "\n",
        "top_states_txn = pd.read_sql(query1, conn)\n",
        "top_states_txn\n"
      ],
      "metadata": {
        "id": "_GX_JYLzOHRP"
      },
      "execution_count": null,
      "outputs": []
    },
    {
      "cell_type": "markdown",
      "source": [
        " ##### Year-on-year trend in Peer-to-Peer payments"
      ],
      "metadata": {
        "id": "5H7BYEqZOc9Y"
      }
    },
    {
      "cell_type": "code",
      "source": [
        "query2 = \"\"\"\n",
        "SELECT year, quarter,\n",
        "       SUM(transaction_count) AS total_count,\n",
        "       SUM(transaction_amount) AS total_amount\n",
        "FROM aggregated_transactions\n",
        "WHERE payment_type = 'Peer-to-peer payments'\n",
        "GROUP BY year, quarter\n",
        "ORDER BY year, quarter;\n",
        "\"\"\"\n",
        "\n",
        "peer_to_peer_trend = pd.read_sql(query2, conn)\n",
        "peer_to_peer_trend\n"
      ],
      "metadata": {
        "id": "udmjoRMzOlZq"
      },
      "execution_count": null,
      "outputs": []
    },
    {
      "cell_type": "markdown",
      "source": [
        "##### Save/Display SQL Results"
      ],
      "metadata": {
        "id": "WqScCBT1PE_T"
      }
    },
    {
      "cell_type": "code",
      "source": [
        "print(\"Top States by Transaction Amount (2024 Q4):\")\n",
        "display(top_states_txn)\n",
        "\n",
        "print(\"\\nPeer-to-Peer Payment Trend (Year-wise):\")\n",
        "display(peer_to_peer_trend)\n"
      ],
      "metadata": {
        "id": "1zl1eBYtOiqY"
      },
      "execution_count": null,
      "outputs": []
    },
    {
      "cell_type": "markdown",
      "source": [
        " ##### Visualize the SQL Results"
      ],
      "metadata": {
        "id": "yTNm1ryQPO3g"
      }
    },
    {
      "cell_type": "code",
      "source": [
        "#For top_states_txn\n",
        "\n",
        "import seaborn as sns\n",
        "import matplotlib.pyplot as plt\n",
        "\n",
        "plt.figure(figsize=(12,6))\n",
        "sns.barplot(data=top_states_txn, x=\"state\", y=\"total_txn_amt\", hue=\"payment_type\")\n",
        "plt.title(\"Top States by Transaction Amount (2024 Q4)\")\n",
        "plt.xticks(rotation=45)\n",
        "plt.tight_layout()\n",
        "plt.show()\n"
      ],
      "metadata": {
        "id": "wmfYc_6XPXKm"
      },
      "execution_count": null,
      "outputs": []
    },
    {
      "cell_type": "code",
      "source": [
        "#For peer_to_peer_trend\n",
        "\n",
        "peer_to_peer_trend[\"year_quarter\"] = (\n",
        "    peer_to_peer_trend[\"year\"].astype(str) + \"-Q\" + peer_to_peer_trend[\"quarter\"].astype(str)\n",
        ")\n",
        "\n",
        "plt.figure(figsize=(10,6))\n",
        "sns.lineplot(data=peer_to_peer_trend, x=\"year_quarter\", y=\"total_amount\", marker='o')\n",
        "plt.title(\"Peer-to-Peer Payments Trend Over Time\")\n",
        "plt.xticks(rotation=45)\n",
        "plt.tight_layout()\n",
        "plt.show()\n"
      ],
      "metadata": {
        "id": "IaBvt9pKPkbB"
      },
      "execution_count": null,
      "outputs": []
    },
    {
      "cell_type": "markdown",
      "source": [
        "Insights from Business Case 1:\n",
        "\n",
        "Haryana and Maharashtra had the highest transaction amounts in Q4 2024, mainly from Merchant and Peer-to-Peer payments.\n",
        "\n",
        "Peer-to-Peer transactions have shown a consistent growth trend across quarters, indicating strong user reliance on direct transfers.\n",
        "\n",
        "Some states have low Financial Services usage, which may be targeted for new feature promotion."
      ],
      "metadata": {
        "id": "ZlMXe4amPs4a"
      }
    },
    {
      "cell_type": "markdown",
      "source": [
        "#### Business Case 8: User Registration Analysis"
      ],
      "metadata": {
        "id": "wspmFY7UQPXr"
      }
    },
    {
      "cell_type": "markdown",
      "source": [],
      "metadata": {
        "id": "zSJh-RzbQyYj"
      }
    },
    {
      "cell_type": "markdown",
      "source": [
        "##### Top 10 Districts by Registered Users in 2024 Q4"
      ],
      "metadata": {
        "id": "lWYmlsssQyct"
      }
    },
    {
      "cell_type": "code",
      "source": [
        "query3 = \"\"\"\n",
        "SELECT state, district, SUM(registered_users) AS total_users\n",
        "FROM top_district_users\n",
        "WHERE year = 2024 AND quarter = 4\n",
        "GROUP BY state, district\n",
        "ORDER BY total_users DESC\n",
        "LIMIT 10;\n",
        "\"\"\"\n",
        "\n",
        "top_districts_users = pd.read_sql(query3, conn)\n",
        "top_districts_users\n"
      ],
      "metadata": {
        "id": "c0oMo_qCQ3Ti"
      },
      "execution_count": null,
      "outputs": []
    },
    {
      "cell_type": "markdown",
      "source": [
        "##### Top Districts by Registered Users"
      ],
      "metadata": {
        "id": "m5ERYGZiQ7kT"
      }
    },
    {
      "cell_type": "code",
      "source": [
        "plt.figure(figsize=(10,6))\n",
        "sns.barplot(data=top_districts_users, x=\"district\", y=\"total_users\", hue=\"state\")\n",
        "plt.title(\"Top 10 Districts by Registered Users (2024 Q4)\")\n",
        "plt.xticks(rotation=45)\n",
        "plt.tight_layout()\n",
        "plt.show()\n"
      ],
      "metadata": {
        "id": "EPq_cE4mRNmE"
      },
      "execution_count": null,
      "outputs": []
    },
    {
      "cell_type": "markdown",
      "source": [
        "In Q4 of 2024, Bengaluru Urban (Karnataka) led with the highest number of registered PhonePe users, totaling 18.1 million. It was followed by Pune (Maharashtra) with 12.7 million users and Thane (Maharashtra) with 7.3 million. These districts show strong user adoption, making them ideal for launching new features, running promotional campaigns, or expanding partner integrations."
      ],
      "metadata": {
        "id": "LVEw_1BIR3Hw"
      }
    },
    {
      "cell_type": "markdown",
      "source": [],
      "metadata": {
        "id": "_bQTfCooRUt6"
      }
    },
    {
      "cell_type": "markdown",
      "source": [
        "#### Business Case 7: Transaction Analysis Across States and Districts"
      ],
      "metadata": {
        "id": "EkcbJ_rXSDpI"
      }
    },
    {
      "cell_type": "markdown",
      "source": [
        "##### SQL for Top 10 States by Transaction Amount (Q4 2024)"
      ],
      "metadata": {
        "id": "zS7FSuoUSK3q"
      }
    },
    {
      "cell_type": "code",
      "source": [
        "query4 = \"\"\"\n",
        "SELECT state,\n",
        "       SUM(transaction_count) AS total_txn_count,\n",
        "       SUM(transaction_amount) AS total_txn_amt\n",
        "FROM aggregated_transactions\n",
        "WHERE year = 2024 AND quarter = 4\n",
        "GROUP BY state\n",
        "ORDER BY total_txn_amt DESC\n",
        "LIMIT 10;\n",
        "\"\"\"\n",
        "\n",
        "top_states_txns = pd.read_sql(query4, conn)\n",
        "top_states_txns\n"
      ],
      "metadata": {
        "id": "AGyQy8VzSQn0"
      },
      "execution_count": null,
      "outputs": []
    },
    {
      "cell_type": "markdown",
      "source": [
        "##### Visualize the Results"
      ],
      "metadata": {
        "id": "5Y0KThDJSUaM"
      }
    },
    {
      "cell_type": "code",
      "source": [
        "plt.figure(figsize=(10,6))\n",
        "sns.barplot(data=top_states_txns, x=\"state\", y=\"total_txn_amt\")\n",
        "plt.title(\"Top 10 States by Transaction Amount (Q4 2024)\")\n",
        "plt.xticks(rotation=45)\n",
        "plt.tight_layout()\n",
        "plt.show()\n"
      ],
      "metadata": {
        "id": "wh-By5V7Sa2O"
      },
      "execution_count": null,
      "outputs": []
    },
    {
      "cell_type": "markdown",
      "source": [
        "While several states showed strong user registration numbers, Karnataka and Maharashtra led in actual digital payment activity, with each recording over 4.15 trillion in transactions during Q4 2024. Interestingly, Telangana, despite having a smaller user base, closely followed in transaction volume, suggesting a highly active user segment. These trends highlight not just adoption, but high transactional engagement, which is critical for driving revenue and product uptake.\n",
        "\n"
      ],
      "metadata": {
        "id": "KQYPgwt7Sytl"
      }
    },
    {
      "cell_type": "markdown",
      "source": [
        "#### Business Case 5: User Engagement and Growth Strategy"
      ],
      "metadata": {
        "id": "QIksOXLkS2v0"
      }
    },
    {
      "cell_type": "markdown",
      "source": [
        "##### SQL to Get Total App Opens by State (Q4 2024)"
      ],
      "metadata": {
        "id": "8exn9ASqTFXG"
      }
    },
    {
      "cell_type": "code",
      "source": [
        "query6 = \"\"\"\n",
        "SELECT state, SUM(app_opens) AS total_app_opens\n",
        "FROM aggregated_user\n",
        "WHERE year = 2024 AND quarter = 4\n",
        "GROUP BY state\n",
        "ORDER BY total_app_opens DESC\n",
        "LIMIT 10;\n",
        "\"\"\"\n",
        "\n",
        "top_engaged_states = pd.read_sql(query6, conn)\n",
        "top_engaged_states\n",
        "\n"
      ],
      "metadata": {
        "id": "Dbi2Yu37TKtw"
      },
      "execution_count": null,
      "outputs": []
    },
    {
      "cell_type": "markdown",
      "source": [
        "##### Visualization  App Opens by State"
      ],
      "metadata": {
        "id": "4OBYXq_NUNIo"
      }
    },
    {
      "cell_type": "code",
      "source": [
        "plt.figure(figsize=(10,6))\n",
        "sns.barplot(data=top_engaged_states, x=\"state\", y=\"total_app_opens\")\n",
        "plt.title(\"Top 10 States by App Opens (Q4 2024)\")\n",
        "plt.xticks(rotation=45)\n",
        "plt.tight_layout()\n",
        "plt.show()\n"
      ],
      "metadata": {
        "id": "7nrqtLxTTiWu"
      },
      "execution_count": null,
      "outputs": []
    },
    {
      "cell_type": "markdown",
      "source": [
        "In Q4 2024, Uttar Pradesh led all states in user engagement with over 5 billion app opens, closely followed by Maharashtra at 5.04 billion. Karnataka, Rajasthan, and Bihar also showed strong app activity, indicating a deeply engaged user base in these regions. These states represent the most active markets, and future feature rollouts or campaigns may see higher adoption here.\n",
        "\n",
        "Conversely, states not in the top 10 may benefit from targeted awareness efforts to boost engagement"
      ],
      "metadata": {
        "id": "l5qTKGW1Uh39"
      }
    },
    {
      "cell_type": "markdown",
      "source": [
        "#### Business Case 6: User Registration Analysis"
      ],
      "metadata": {
        "id": "Hje7inL9Ukka"
      }
    },
    {
      "cell_type": "markdown",
      "source": [
        "##### SQL Query to get Top Districts by Registered Users (Q4 2024)"
      ],
      "metadata": {
        "id": "gcT0jrKGUt7B"
      }
    },
    {
      "cell_type": "code",
      "source": [
        "query7 = \"\"\"\n",
        "SELECT state, district, registered_users\n",
        "FROM top_district_users\n",
        "WHERE year = 2024 AND quarter = 4\n",
        "ORDER BY registered_users DESC\n",
        "LIMIT 10;\n",
        "\"\"\"\n",
        "\n",
        "top_registered_districts = pd.read_sql(query7, conn)\n",
        "top_registered_districts\n"
      ],
      "metadata": {
        "id": "uk51jsKxUzBw"
      },
      "execution_count": null,
      "outputs": []
    },
    {
      "cell_type": "markdown",
      "source": [
        "##### Visualization of Top Districts"
      ],
      "metadata": {
        "id": "AkUfZVlSU4_4"
      }
    },
    {
      "cell_type": "code",
      "source": [
        "plt.figure(figsize=(12,6))\n",
        "sns.barplot(data=top_registered_districts, x=\"district\", y=\"registered_users\", hue=\"state\")\n",
        "plt.title(\"Top 10 Districts by Registered Users (Q4 2024)\")\n",
        "plt.xticks(rotation=45)\n",
        "plt.tight_layout()\n",
        "plt.show()\n"
      ],
      "metadata": {
        "id": "QIuONPtpU-4c"
      },
      "execution_count": null,
      "outputs": []
    },
    {
      "cell_type": "markdown",
      "source": [
        "In Q4 2024, Bengaluru Urban (Karnataka) topped the chart with 18.1 million registered users, followed by Pune (Maharashtra) with over 12.7 million. Other districts like Thane, Mumbai Suburban, Ranga Reddy, and Hyderabad also showed exceptional user registration activity, reflecting strong digital adoption in major urban centers.\n",
        "\n",
        "These top-performing districts indicate high penetration and user onboarding success, making them ideal for promoting advanced features or financial products.\n",
        "Emerging tech hubs like Ahmedabad, Chennai, and Jaipur also represent rapidly growing digital markets.\n",
        "\n"
      ],
      "metadata": {
        "id": "IX_HybI0VMUc"
      }
    },
    {
      "cell_type": "markdown",
      "source": [
        "#### What do you suggest the client to achieve Business Objective ?\n",
        "Explain Briefly."
      ],
      "metadata": {
        "id": "8G2x9gOozGDZ"
      }
    },
    {
      "cell_type": "markdown",
      "source": [
        "To meet its business goals, PhonePe should focus on region-specific strategies. High-performing states like Uttar Pradesh, Maharashtra, and Karnataka show strong engagement and transaction volumes, ideal regions for launching premium features, financial services, and retention campaigns.\n",
        "\n",
        "Meanwhile, emerging markets with rising user registrations (e.g., Ahmedabad, Jaipur, North 24 Parganas) present opportunities for targeted growth through localized promotions and partnerships.\n",
        "\n",
        "For the insurance segment, deeper analysis and data integration are recommended to unlock penetration potential and user targeting.\n",
        "\n",
        "Overall, leveraging transaction dynamics, user engagement trends, and district-wise growth patterns will help PhonePe:\n",
        "\n",
        "Retain top users\n",
        "\n",
        "Expand in under-tapped areas\n",
        "\n",
        "Drive product adoption across services"
      ],
      "metadata": {
        "id": "pASKb0qOza21"
      }
    },
    {
      "cell_type": "markdown",
      "source": [
        "## **Phone Pe Dashboard**"
      ],
      "metadata": {
        "id": "Z5m8iZq1Xn5r"
      }
    },
    {
      "cell_type": "markdown",
      "source": [
        "#### streamlit_app.py"
      ],
      "metadata": {
        "id": "4CobGTHLXz3J"
      }
    },
    {
      "cell_type": "code",
      "source": [
        "pip install streamlit\n"
      ],
      "metadata": {
        "id": "egktSE2xYMK2"
      },
      "execution_count": null,
      "outputs": []
    },
    {
      "cell_type": "code",
      "source": [
        "import streamlit as st\n",
        "import pandas as pd\n",
        "import matplotlib.pyplot as plt\n",
        "import seaborn as sns"
      ],
      "metadata": {
        "id": "5OqSxCQrX_KL"
      },
      "execution_count": null,
      "outputs": []
    },
    {
      "cell_type": "markdown",
      "source": [
        "#### Set page config"
      ],
      "metadata": {
        "id": "H4zxBCpFYSXf"
      }
    },
    {
      "cell_type": "code",
      "source": [
        "st.set_page_config(page_title=\"PhonePe Transaction Insights Dashboard\", layout=\"wide\")"
      ],
      "metadata": {
        "id": "-08lZu4mYXXi"
      },
      "execution_count": null,
      "outputs": []
    },
    {
      "cell_type": "markdown",
      "source": [
        "#### Load Data"
      ],
      "metadata": {
        "id": "m5HJdXbUYq3A"
      }
    },
    {
      "cell_type": "code",
      "source": [
        "txn_df = pd.read_csv(\"aggregated_transactions.csv\")\n",
        "user_df = pd.read_csv(\"aggregated_user.csv\")\n",
        "top_district_df = pd.read_csv(\"top_district_users.csv\")\n"
      ],
      "metadata": {
        "id": "Aj31PDkaYs1F"
      },
      "execution_count": null,
      "outputs": []
    },
    {
      "cell_type": "markdown",
      "source": [
        "#### Section 1: Title and Description"
      ],
      "metadata": {
        "id": "Cu6mA4jsZqv6"
      }
    },
    {
      "cell_type": "code",
      "source": [
        "st.title(\" PhonePe Transaction Insights Dashboard\")\n",
        "st.markdown(\"\"\"\n",
        "This dashboard presents analysis of PhonePe transaction data, user engagement trends,\n",
        "and district-level performance to guide strategic decisions.\n",
        "\"\"\")\n"
      ],
      "metadata": {
        "id": "F_7avmoJZyhF"
      },
      "execution_count": null,
      "outputs": []
    },
    {
      "cell_type": "markdown",
      "source": [
        "#### Section 2: Transaction Insights"
      ],
      "metadata": {
        "id": "dwAUvpaRZ5Bc"
      }
    },
    {
      "cell_type": "code",
      "source": [
        "st.header(\"State-wise Transaction Analysis\")\n",
        "top_txn_states = txn_df.groupby(\"state\")[\"transaction_amount\"].sum().sort_values(ascending=False).head(10)\n",
        "\n",
        "fig1, ax1 = plt.subplots(figsize=(10, 5))\n",
        "sns.barplot(x=top_txn_states.values, y=top_txn_states.index, palette=\"viridis\", ax=ax1)\n",
        "ax1.set_title(\"Top 10 States by Transaction Amount\")\n",
        "ax1.set_xlabel(\"Transaction Amount\")\n",
        "ax1.set_ylabel(\"State\")\n",
        "st.pyplot(fig1)"
      ],
      "metadata": {
        "id": "dYaBbB4WZ-qG"
      },
      "execution_count": null,
      "outputs": []
    },
    {
      "cell_type": "markdown",
      "source": [
        "#### Section 3: User Engagement"
      ],
      "metadata": {
        "id": "fywS6UYcaF5p"
      }
    },
    {
      "cell_type": "code",
      "source": [
        "st.header(\"User Engagement Over Time\")\n",
        "state_options = user_df[\"state\"].unique()\n",
        "selected_state = st.selectbox(\"Choose a state:\", sorted(state_options))\n",
        "\n",
        "state_data = user_df[user_df[\"state\"] == selected_state].copy()\n",
        "state_data[\"year_quarter\"] = state_data[\"year\"].astype(str) + \"-Q\" + state_data[\"quarter\"].astype(str)\n",
        "\n",
        "fig2, ax2 = plt.subplots(figsize=(10, 5))\n",
        "sns.lineplot(data=state_data, x=\"year_quarter\", y=\"app_opens\", marker=\"o\", ax=ax2)\n",
        "ax2.set_title(f\"App Opens Over Time in {selected_state.title()}\")\n",
        "ax2.set_xlabel(\"Year-Quarter\")\n",
        "ax2.set_ylabel(\"App Opens\")\n",
        "plt.xticks(rotation=45)\n",
        "st.pyplot(fig2)"
      ],
      "metadata": {
        "id": "NoYCsPtpaK6K"
      },
      "execution_count": null,
      "outputs": []
    },
    {
      "cell_type": "markdown",
      "source": [
        "#### Section 4: Top Districts by Users"
      ],
      "metadata": {
        "id": "nbD0UkFcam3i"
      }
    },
    {
      "cell_type": "code",
      "source": [
        "st.header(\"Top Districts by Registered Users\")\n",
        "top_districts = top_district_df.sort_values(by=\"registered_users\", ascending=False).head(10)\n",
        "\n",
        "fig3, ax3 = plt.subplots(figsize=(10, 5))\n",
        "sns.barplot(data=top_districts, x=\"registered_users\", y=\"district\", palette=\"magma\", ax=ax3)\n",
        "ax3.set_title(\"Top 10 Districts by Registered Users\")\n",
        "ax3.set_xlabel(\"Registered Users\")\n",
        "ax3.set_ylabel(\"District\")\n",
        "st.pyplot(fig3)"
      ],
      "metadata": {
        "id": "Ag04GntFaiWM"
      },
      "execution_count": null,
      "outputs": []
    },
    {
      "cell_type": "markdown",
      "source": [
        "#### Section 5: About"
      ],
      "metadata": {
        "id": "GQDbQ3Ooat9l"
      }
    },
    {
      "cell_type": "code",
      "source": [
        "st.header(\"About This Project\")\n",
        "st.markdown(\"\"\"\n",
        "**Project Title**: PhonePe Transaction Insights\n",
        "\n",
        "**Technologies Used**:\n",
        "- Python (Pandas, Seaborn, Matplotlib)\n",
        "- SQL (SQLite in Python)\n",
        "- Streamlit\n",
        "\n",
        "**Skills Demonstrated**:\n",
        "- Data Extraction and Cleaning\n",
        "- SQL-based Business Analysis\n",
        "- Visual Storytelling\n",
        "- Dashboard Development\n",
        "\"\"\")\n"
      ],
      "metadata": {
        "id": "wQsLVffua1Ib"
      },
      "execution_count": null,
      "outputs": []
    },
    {
      "cell_type": "markdown",
      "source": [
        "# **Conclusion**"
      ],
      "metadata": {
        "id": "gCX9965dhzqZ"
      }
    },
    {
      "cell_type": "markdown",
      "source": [
        "The PhonePe Transaction Insights project offered a comprehensive exploration into the dynamics of digital payments and user engagement across India. Through meticulous data extraction, cleaning, and transformation, the project laid a solid foundation for meaningful analysis. By integrating SQL for business case-driven queries, Python for visual storytelling, and Streamlit for interactive dashboards, the project bridged raw data with actionable insights.\n",
        "\n",
        "Our analysis revealed clear patterns in transaction behavior, regional user engagement, and app usage trends. High-performing states and districts were identified, along with key payment categories driving volume. These findings can support targeted business strategies, such as focused marketing, infrastructure scaling, and product enhancement.\n",
        "\n",
        "Overall, this project not only demonstrated technical proficiency across data handling, SQL, and visualization, but also reflected strong analytical thinking and a deep understanding of practical business applications in the digital payments sector."
      ],
      "metadata": {
        "id": "Fjb1IsQkh3yE"
      }
    },
    {
      "cell_type": "markdown",
      "source": [
        "### ***Hurrah! You have successfully completed your EDA Capstone Project !!!***"
      ],
      "metadata": {
        "id": "gIfDvo9L0UH2"
      }
    },
    {
      "cell_type": "code",
      "source": [],
      "metadata": {
        "id": "dYX880etpL0x"
      },
      "execution_count": null,
      "outputs": []
    },
    {
      "cell_type": "code",
      "source": [],
      "metadata": {
        "id": "-6Vl263upPVI"
      },
      "execution_count": null,
      "outputs": []
    }
  ]
}